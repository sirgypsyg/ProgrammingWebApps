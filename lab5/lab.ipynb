{
 "cells": [
  {
   "cell_type": "code",
   "execution_count": null,
   "id": "d2784311",
   "metadata": {},
   "outputs": [],
   "source": [
    "# Napisz program serwera, który działając pod adresem 127.0.0.1 oraz na określonym porcie TCP będzie\n",
    "# serwerem echa, który będzie odsyłał podłączającym się klientom odebrane od nich wiadomości.\n",
    "import socket\n",
    "import threading\n",
    "\n",
    "def handle_client(client_socket, client_address):\n",
    "    print(f\"Połączono z {client_address}\")\n",
    "    with client_socket:\n",
    "        while True:\n",
    "            data = client_socket.recv(1024)\n",
    "            if not data:\n",
    "                break\n",
    "            print(f\"Otrzymano od {client_address}: {data.decode('utf-8')}\")\n",
    "            client_socket.sendall(data)\n",
    "    print(f\"Rozłączono {client_address}\")\n",
    "\n",
    "def echo_server(host='127.0.0.1', port=12345):\n",
    "    with socket.socket(socket.AF_INET, socket.SOCK_STREAM) as server_socket:\n",
    "        server_socket.bind((host, port))\n",
    "        server_socket.listen(5)\n",
    "        print(f\"Serwer echa działa na {host}:{port}\")\n",
    "\n",
    "        while True:\n",
    "            client_socket, client_address = server_socket.accept()\n",
    "            client_thread = threading.Thread(target=handle_client, args=(client_socket, client_address))\n",
    "            client_thread.start()\n",
    "\n",
    "if __name__ == \"__main__\":\n",
    "    echo_server()"
   ]
  },
  {
   "cell_type": "code",
   "execution_count": 14,
   "id": "06c5b945",
   "metadata": {},
   "outputs": [
    {
     "name": "stdout",
     "output_type": "stream",
     "text": [
      "respomnse: asfaf sf asfasf!\n"
     ]
    }
   ],
   "source": [
    "import socket\n",
    "def test_echo_server(host='127.0.0.1', port=12345):\n",
    "    with socket.socket(socket.AF_INET, socket.SOCK_STREAM) as client_socket:\n",
    "        client_socket.connect((host, port))\n",
    "        message = \"asfaf sf asfasf!\"\n",
    "        client_socket.sendall(message.encode('utf-8'))\n",
    "        response = client_socket.recv(1024)\n",
    "        print(f\"respomnse: {response.decode('utf-8')}\")\n",
    "\n",
    "\n",
    "test_echo_server()"
   ]
  },
  {
   "cell_type": "code",
   "execution_count": null,
   "id": "081ed7e8",
   "metadata": {},
   "outputs": [],
   "source": [
    "import socket\n",
    "import threading\n",
    "from datetime import datetime\n",
    "\n",
    "LOG_FILE = \"server_log.txt\"\n",
    "\n",
    "def log_event(message):\n",
    "    with open(LOG_FILE, \"a\") as log_file:\n",
    "        log_file.write(f\"{datetime.now().strftime('%Y-%m-%d %H:%M:%S')} - {message}\\n\")\n",
    "\n",
    "def handle_client(client_socket, client_address):\n",
    "    log_event(f\"New connection from {client_address[0]}:{client_address[1]}\")\n",
    "    print(f\"Połączono z {client_address}\")\n",
    "\n",
    "    with client_socket:\n",
    "        while True:\n",
    "            data = client_socket.recv(1024)\n",
    "            if not data:\n",
    "                break\n",
    "            message = data.decode('utf-8')\n",
    "            print(f\"Otrzymano od {client_address}: {message}\")\n",
    "            log_event(f\"Received message from {client_address[0]}:{client_address[1]}: {message}\")\n",
    "            client_socket.sendall(data)\n",
    "            log_event(f\"Echoed message to {client_address[0]}:{client_address[1]}\")\n",
    "    \n",
    "    log_event(f\"Connection closed with {client_address[0]}:{client_address[1]}\")\n",
    "    print(f\"Rozłączono {client_address}\")\n",
    "\n",
    "def echo_server(host='127.0.0.1', port=12345):\n",
    "    with socket.socket(socket.AF_INET, socket.SOCK_STREAM) as server_socket:\n",
    "        server_socket.bind((host, port))\n",
    "        server_socket.listen(5)\n",
    "        print(f\"Serwer echa działa na {host}:{port}\")\n",
    "        log_event(f\"Server started on {host}:{port}\")\n",
    "\n",
    "        while True:\n",
    "            client_socket, client_address = server_socket.accept()\n",
    "            thread = threading.Thread(target=handle_client, args=(client_socket, client_address))\n",
    "            thread.daemon = True  # wątek zakończy się, jeśli główny program się zamknie\n",
    "            thread.start()\n",
    "\n",
    "if __name__ == \"__main__\":\n",
    "    echo_server()"
   ]
  },
  {
   "cell_type": "code",
   "execution_count": 18,
   "id": "52888f4d",
   "metadata": {},
   "outputs": [
    {
     "name": "stdout",
     "output_type": "stream",
     "text": [
      "respomnse: adadadada sf asfasf!\n"
     ]
    }
   ],
   "source": [
    "import socket\n",
    "def test_echo_server(host='127.0.0.1', port=12345):\n",
    "    with socket.socket(socket.AF_INET, socket.SOCK_STREAM) as client_socket:\n",
    "        client_socket.connect((host, port))\n",
    "        message = \"adadadada sf asfasf!\"\n",
    "        client_socket.sendall(message.encode('utf-8'))\n",
    "        response = client_socket.recv(1024)\n",
    "        print(f\"respomnse: {response.decode('utf-8')}\")\n",
    "test_echo_server()"
   ]
  },
  {
   "cell_type": "code",
   "execution_count": null,
   "id": "4355884a",
   "metadata": {},
   "outputs": [],
   "source": [
    "import socket\n",
    "import random\n",
    "from datetime import datetime\n",
    "\n",
    "HOST = '127.0.0.1'\n",
    "PORT = 12345\n",
    "LOG_FILE = \"guess_server_log.txt\"\n",
    "\n",
    "def log_event(message):\n",
    "    with open(LOG_FILE, \"a\") as log_file:\n",
    "        log_file.write(f\"{datetime.now().strftime('%Y-%m-%d %H:%M:%S')} - {message}\\n\")\n",
    "\n",
    "def guess_number_server(host=HOST, port=PORT):\n",
    "    number_to_guess = random.randint(1, 100)\n",
    "    print(f\"[INFO] Serwer wystartował na {host}:{port}\")\n",
    "    print(f\"[INFO] Wylosowana liczba: {number_to_guess}\")\n",
    "    log_event(f\"Server started on {host}:{port} | Number to guess: {number_to_guess}\")\n",
    "\n",
    "    with socket.socket(socket.AF_INET, socket.SOCK_STREAM) as server_socket:\n",
    "        server_socket.bind((host, port))\n",
    "        server_socket.listen(1)\n",
    "        print(f\"[INFO] Oczekiwanie na połączenie...\")\n",
    "\n",
    "        client_socket, client_address = server_socket.accept()\n",
    "        log_event(f\"New connection from {client_address[0]}:{client_address[1]}\")\n",
    "        with client_socket:\n",
    "            print(f\"[INFO] Połączono z {client_address}\")\n",
    "            client_socket.sendall(b\"Witaj w grze 'Zgadnij liczbe'! Zgadnij liczbe od 1 do 100.\\n\")\n",
    "\n",
    "            while True:\n",
    "                data = client_socket.recv(1024).decode('utf-8').strip()\n",
    "                if not data:\n",
    "                    break\n",
    "\n",
    "                log_event(f\"Received from {client_address[0]}:{client_address[1]}: {data}\")\n",
    "                \n",
    "                try:\n",
    "                    guess = int(data)\n",
    "                    if guess < number_to_guess:\n",
    "                        response = \"Za malo\\n\"\n",
    "                    elif guess > number_to_guess:\n",
    "                        response = \"Za duzo\\n\"\n",
    "                    else:\n",
    "                        response = \"Gratulacje! Zgadles liczbe!\\n\"\n",
    "                        client_socket.sendall(response.encode('utf-8'))\n",
    "                        log_event(f\"Client guessed the number correctly: {guess}\")\n",
    "                        break\n",
    "                except ValueError:\n",
    "                    response = \"Blad: Podaj poprawna liczbe calkowita.\\n\"\n",
    "\n",
    "                client_socket.sendall(response.encode('utf-8'))\n",
    "\n",
    "    print(\"[INFO] Zakonczono gre. Serwer wylosuje nowa liczbe przy ponownym uruchomieniu.\")\n",
    "\n",
    "if __name__ == \"__main__\":\n",
    "    guess_number_server()"
   ]
  },
  {
   "cell_type": "code",
   "execution_count": 19,
   "id": "1918f846",
   "metadata": {},
   "outputs": [
    {
     "name": "stdout",
     "output_type": "stream",
     "text": [
      "Witaj w grze 'Zgadnij liczbe'! Zgadnij liczbe od 1 do 100.\n",
      "\n",
      "Serwer: Za duzo\n",
      "Serwer: Za malo\n",
      "Serwer: Gratulacje! Zgadles liczbe!\n"
     ]
    }
   ],
   "source": [
    "import socket\n",
    "\n",
    "def guess_number_client(host='127.0.0.1', port=12345):\n",
    "    with socket.socket(socket.AF_INET, socket.SOCK_STREAM) as sock:\n",
    "        sock.connect((host, port))\n",
    "        print(sock.recv(1024).decode('utf-8'))  # Powitanie\n",
    "\n",
    "        while True:\n",
    "            msg = input(\"Twoj strzal: \")\n",
    "            sock.sendall(msg.encode('utf-8'))\n",
    "            response = sock.recv(1024).decode('utf-8')\n",
    "            print(f\"Serwer: {response.strip()}\")\n",
    "            if \"Gratulacje\" in response:\n",
    "                break\n",
    "\n",
    "if __name__ == \"__main__\":\n",
    "    guess_number_client()"
   ]
  },
  {
   "cell_type": "code",
   "execution_count": null,
   "id": "15503e3a",
   "metadata": {},
   "outputs": [],
   "source": []
  }
 ],
 "metadata": {
  "kernelspec": {
   "display_name": "venv",
   "language": "python",
   "name": "python3"
  },
  "language_info": {
   "codemirror_mode": {
    "name": "ipython",
    "version": 3
   },
   "file_extension": ".py",
   "mimetype": "text/x-python",
   "name": "python",
   "nbconvert_exporter": "python",
   "pygments_lexer": "ipython3",
   "version": "3.12.1"
  }
 },
 "nbformat": 4,
 "nbformat_minor": 5
}
