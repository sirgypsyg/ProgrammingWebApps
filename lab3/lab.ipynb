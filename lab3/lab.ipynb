{
 "cells": [
  {
   "cell_type": "code",
   "execution_count": null,
   "metadata": {},
   "outputs": [
    {
     "name": "stdout",
     "output_type": "stream",
     "text": [
      "Wiadomość do wysłania: zad14odp;src;60788;dst;2901;data;programming in python is fun\n",
      "Odpowiedź serwera: BAD_SYNTAX\n"
     ]
    }
   ],
   "source": [
    "import socket\n",
    "\n",
    "# Zapis szesnastkowy datagramu UDP\n",
    "hex_data = \"ed740b550024effd70726f6772616d6d696e6720696e20707974686f6e2069732066756e\"\n",
    "\n",
    "# Konwersja ciągu szesnastkowego na bajty\n",
    "udp_packet = bytes.fromhex(hex_data)\n",
    "\n",
    "# Parsowanie nagłówka UDP\n",
    "src_port = int.from_bytes(udp_packet[0:2], byteorder='big')\n",
    "dst_port = int.from_bytes(udp_packet[2:4], byteorder='big')\n",
    "length = int.from_bytes(udp_packet[4:6], byteorder='big')\n",
    "\n",
    "# Pobranie danych\n",
    "header_length = 8  # Nagłówek UDP ma zawsze 8 bajtów\n",
    "data_bytes = udp_packet[header_length:length]  # Pobranie danych\n",
    "data_str = data_bytes.decode(errors='ignore')  # Konwersja na string\n",
    "\n",
    "message = f\"zad14odp;src;{src_port};dst;{dst_port};data;{data_str}\"\n",
    "\n",
    "# Wysyłanie do serwera\n",
    "server_address = (\"127.0.0.1\", 2910)  # Jeśli serwer działa lokalnie\n",
    "sock = socket.socket(socket.AF_INET, socket.SOCK_DGRAM)\n",
    "sock.settimeout(5)  # Ustawienie timeoutu na odpowiedź\n",
    "\n",
    "try:\n",
    "    sock.sendto(message.encode(), server_address)\n",
    "\n",
    "    response, _ = sock.recvfrom(1024)\n",
    "    print(\"Odpowiedź serwera:\", response.decode())\n",
    "except socket.timeout:\n",
    "    print(\"Brak odpowiedzi od serwera.\")\n",
    "finally:\n",
    "    sock.close()"
   ]
  },
  {
   "cell_type": "code",
   "execution_count": 84,
   "metadata": {},
   "outputs": [
    {
     "name": "stdout",
     "output_type": "stream",
     "text": [
      "data_offset: 32,  data_length: 8\n",
      "Wiadomość do wysłania: zad13odp;src;2900;dst;35211;data;hello :)\n",
      "Odpowiedź serwera: BAD_SYNTAX\n"
     ]
    }
   ],
   "source": [
    "import socket\n",
    "# Poniżej znajduje się pełny zapis segmentu TCP w postaci szesnastkowej (pole opcji ma 12 bajtów).\n",
    "hex_data = \"0b54898b1f9a18ecbbb164f2801800e3677100000101080a02c1a4ee001a4cee68656c6c6f203a29\"\n",
    "\n",
    "tcp_packet = bytes.fromhex(hex_data)\n",
    "\n",
    "src_port = int.from_bytes(tcp_packet[0:2], byteorder='big')  # 2 bajty: port źródłowy\n",
    "dst_port = int.from_bytes(tcp_packet[2:4], byteorder='big')  # 2 bajty: port docelowy\n",
    "\n",
    "data_offset = (tcp_packet[12] >> 4) * 4  \n",
    "options_length = data_offset - 20 \n",
    "\n",
    "data_length = len(tcp_packet) - data_offset\n",
    "\n",
    "print(f\"data_offset: {data_offset},  data_length: {data_length}\")\n",
    "# Pobranie danych\n",
    "data_bytes = tcp_packet[data_offset:]  # Odczytanie danych\n",
    "data_str = data_bytes.decode(errors='ignore')  # Konwersja na string\n",
    "\n",
    "# Formatowanie wiadomości\n",
    "message = f\"zad13odp;src;{src_port};dst;{dst_port};data;{data_str}\"\n",
    "print(\"Wiadomość do wysłania:\", message)\n",
    "\n",
    "# Wysyłanie do serwera\n",
    "server_address = (\"127.0.0.1\", 2910)  \n",
    "sock = socket.socket(socket.AF_INET, socket.SOCK_DGRAM)\n",
    "sock.settimeout(5)  \n",
    "\n",
    "try:\n",
    "    sock.sendto(message.encode(), server_address)\n",
    "\n",
    "    # Odbieranie odpowiedzi\n",
    "    response, _ = sock.recvfrom(1024)\n",
    "    print(\"Odpowiedź serwera:\", response.decode())\n",
    "except socket.timeout:\n",
    "    print(\"Brak odpowiedzi od serwera.\")\n",
    "finally:\n",
    "    sock.close()"
   ]
  },
  {
   "cell_type": "code",
   "execution_count": null,
   "metadata": {},
   "outputs": [],
   "source": []
  }
 ],
 "metadata": {
  "kernelspec": {
   "display_name": "venv",
   "language": "python",
   "name": "python3"
  },
  "language_info": {
   "codemirror_mode": {
    "name": "ipython",
    "version": 3
   },
   "file_extension": ".py",
   "mimetype": "text/x-python",
   "name": "python",
   "nbconvert_exporter": "python",
   "pygments_lexer": "ipython3",
   "version": "3.12.1"
  }
 },
 "nbformat": 4,
 "nbformat_minor": 2
}
