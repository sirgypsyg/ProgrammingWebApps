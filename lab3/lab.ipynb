{
 "cells": [
  {
   "cell_type": "code",
   "execution_count": null,
   "metadata": {},
   "outputs": [
    {
     "name": "stdout",
     "output_type": "stream",
     "text": [
      "Wiadomość do wysłania: zad14odp;src;60788;dst;2901;data;programming in python is fun\n",
      "Odpowiedź serwera: BAD_SYNTAX\n"
     ]
    }
   ],
   "source": [
    "import socket\n",
    "\n",
    "hex_data = \"ed740b550024effd70726f6772616d6d696e6720696e20707974686f6e2069732066756e\"\n",
    "\n",
    "udp_packet = bytes.fromhex(hex_data)\n",
    "\n",
    "# Parsowanie nagłówka UDP\n",
    "src_port = int.from_bytes(udp_packet[0:2], byteorder='big')\n",
    "dst_port = int.from_bytes(udp_packet[2:4], byteorder='big')\n",
    "length = int.from_bytes(udp_packet[4:6], byteorder='big')\n",
    "\n",
    "# Pobranie danych\n",
    "header_length = 8  # Nagłówek UDP ma zawsze 8 bajtów\n",
    "data_bytes = udp_packet[header_length:length]  # Pobranie danych\n",
    "data_str = data_bytes.decode(errors='ignore')  # Konwersja na string\n",
    "\n",
    "message = f\"zad14odpsrc;{src_port};dst;{dst_port};data;{data_str}\"\n",
    "\n",
    "# Wysyłanie do serwera\n",
    "server_address = (\"127.0.0.1\", 2910)  # Jeśli serwer działa lokalnie\n",
    "sock = socket.socket(socket.AF_INET, socket.SOCK_DGRAM)\n",
    "sock.settimeout(5)  # Ustawienie timeoutu na odpowiedź\n",
    "\n",
    "try:\n",
    "    sock.sendto(message.encode(), server_address)\n",
    "\n",
    "    response, _ = sock.recvfrom(1024)\n",
    "    print(\"Odpowiedź serwera:\", response.decode())\n",
    "except socket.timeout:\n",
    "    print(\"Brak odpowiedzi od serwera.\")\n",
    "finally:\n",
    "    sock.close()"
   ]
  },
  {
   "cell_type": "code",
   "execution_count": null,
   "metadata": {},
   "outputs": [
    {
     "name": "stdout",
     "output_type": "stream",
     "text": [
      "data_offset: 32,  data_length: 8\n",
      "Wiadomość do wysłania: zad13odp;src;2900;dst;35211;data;hello :)\n",
      "Odpowiedź serwera: BAD_SYNTAX\n"
     ]
    }
   ],
   "source": [
    "import socket\n",
    "# Poniżej znajduje się pełny zapis segmentu TCP w postaci szesnastkowej (pole opcji ma 12 bajtów).\n",
    "hex_data = \"0b54898b1f9a18ecbbb164f2801800e3677100000101080a02c1a4ee001a4cee68656c6c6f203a29\"\n",
    "\n",
    "tcp_packet = bytes.fromhex(hex_data)\n",
    "\n",
    "src_port = int.from_bytes(tcp_packet[0:2], byteorder='big')  # 2 bajty: port źródłowy\n",
    "dst_port = int.from_bytes(tcp_packet[2:4], byteorder='big')  # 2 bajty: port docelowy\n",
    "\n",
    "data_offset = (tcp_packet[12] >> 4) * 4  \n",
    "options_length = data_offset - 20 \n",
    "\n",
    "data_length = len(tcp_packet) - data_offset\n",
    "\n",
    "print(f\"data_offset: {data_offset},  data_length: {data_length}\")\n",
    "# Pobranie danych\n",
    "data_bytes = tcp_packet[data_offset:]  # Odczytanie danych\n",
    "data_str = data_bytes.decode(errors='ignore')  # Konwersja na string\n",
    "\n",
    "# Formatowanie wiadomości\n",
    "message = f\"zad13odpsrc;{src_port};dst;{dst_port};data;{data_str}\"\n",
    "print(\"Wiadomość do wysłania:\", message)\n",
    "\n",
    "# Wysyłanie do serwera\n",
    "server_address = (\"127.0.0.1\", 2910)  \n",
    "sock = socket.socket(socket.AF_INET, socket.SOCK_DGRAM)\n",
    "sock.settimeout(5)  \n",
    "\n",
    "try:\n",
    "    sock.sendto(message.encode(), server_address)\n",
    "\n",
    "    # Odbieranie odpowiedzi\n",
    "    response, _ = sock.recvfrom(1024)\n",
    "    print(\"Odpowiedź serwera:\", response.decode())\n",
    "except socket.timeout:\n",
    "    print(\"Brak odpowiedzi od serwera.\")\n",
    "finally:\n",
    "    sock.close()"
   ]
  },
  {
   "cell_type": "code",
   "execution_count": null,
   "metadata": {},
   "outputs": [
    {
     "name": "stdout",
     "output_type": "stream",
     "text": [
      "Odpowiedź serwera A: BAD SYNTAX\n"
     ]
    }
   ],
   "source": [
    "# Napisz program serwera, który działając pod adresem 127.0.0.1 oraz na określonym porcie UDP, dla pod-\n",
    "# łączającego się klienta, odbierze od niego wiadomość o treści podanej w zadaniu nr 13 z laboratorium nr 3,\n",
    "# a następnie odeśle klientowi odpowiedź TAK lub NIE. W przypadku błędnego sformatowania wiadomości,\n",
    "# serwer odeśle klientowi odpowiedź BAD SYNTAX.\n",
    "\n",
    "import socket\n",
    "\n",
    "HOST = '127.0.0.1'\n",
    "PORT = 2911\n",
    "\n",
    "def validate_message(message):\n",
    "    \"\"\"\n",
    "    Validates the format of the received message.\n",
    "    Returns \"TAK\" if valid, \"NIE\" if invalid, and \"BAD SYNTAX\" if the format is incorrect.\n",
    "    \"\"\"\n",
    "    if message.startswith(\"zad15odpA;\"):\n",
    "        # Validate the structure of message A\n",
    "        parts = message.split(\";\")\n",
    "        if len(parts) == 7 and parts[1] == \"ver\" and parts[3] == \"srcip\" and parts[5] == \"dstip\":\n",
    "            return \"TAK\"\n",
    "        else:\n",
    "            return \"BAD SYNTAX\"\n",
    "    elif message.startswith(\"zad15odpB;\"):\n",
    "        # Validate the structure of message B\n",
    "        parts = message.split(\";\")\n",
    "        if len(parts) == 7 and parts[1] == \"srcport\" and parts[3] == \"dstport\" and parts[5] == \"data\":\n",
    "            return \"TAK\"\n",
    "        else:\n",
    "            return \"BAD SYNTAX\"\n",
    "    else:\n",
    "        return \"NIE\"\n",
    "\n",
    "# Create a UDP server socket\n",
    "with socket.socket(socket.AF_INET, socket.SOCK_DGRAM) as server_socket:\n",
    "    server_socket.bind((HOST, PORT))\n",
    "    print(f\"Serwer nasłuchuje na {HOST}:{PORT}...\")\n",
    "    \n",
    "    while True:\n",
    "        data, addr = server_socket.recvfrom(1024)  # Receive data from client\n",
    "        message = data.decode()\n",
    "        print(f\"Otrzymano wiadomość od {addr}: {message}\")\n",
    "        \n",
    "        # Validate the message and prepare a response\n",
    "        response = validate_message(message)\n",
    "        print(f\"Odpowiedź dla {addr}: {response}\")\n",
    "        \n",
    "        # Send the response back to the client\n",
    "        server_socket.sendto(response.encode(), addr)"
   ]
  },
  {
   "cell_type": "code",
   "execution_count": 4,
   "metadata": {},
   "outputs": [
    {
     "name": "stdout",
     "output_type": "stream",
     "text": [
      "Sending message: zad15odpA;ver;4;srcip;127.0.0.1;dstip;192.168.0.1;type;6\n",
      "Server response: BAD SYNTAX\n",
      "Sending message: zad15odpB;srcport;12345;dstport;80;data;Hello, world!\n",
      "Server response: TAK\n",
      "Sending message: invalid;message;format\n",
      "Server response: NIE\n"
     ]
    }
   ],
   "source": [
    "import socket\n",
    "\n",
    "def send_message(server_ip, server_port, message):\n",
    "    \"\"\"\n",
    "    Sends a message to the server and receives a response.\n",
    "    \"\"\"\n",
    "    sock = socket.socket(socket.AF_INET, socket.SOCK_DGRAM)\n",
    "    sock.settimeout(5)  # Set a timeout for the response\n",
    "    try:\n",
    "        print(f\"Sending message: {message}\")\n",
    "        sock.sendto(message.encode(), (server_ip, server_port))\n",
    "        response, _ = sock.recvfrom(1024)\n",
    "        print(f\"Server response: {response.decode()}\")\n",
    "    except socket.timeout:\n",
    "        print(\"No response from server.\")\n",
    "    finally:\n",
    "        sock.close()\n",
    "\n",
    "# Server details\n",
    "server_ip = \"127.0.0.1\"\n",
    "server_port = 2911\n",
    "\n",
    "# Test messages\n",
    "messageA = \"zad15odpA;ver;4;srcip;127.0.0.1;dstip;192.168.0.1;type;6\"\n",
    "messageB = \"zad15odpB;srcport;12345;dstport;80;data;Hello, world!\"\n",
    "invalid_message = \"invalid;message;format\"\n",
    "\n",
    "# Send test messages\n",
    "send_message(server_ip, server_port, messageA)  # Should return \"TAK\"\n",
    "send_message(server_ip, server_port, messageB)  # Should return \"TAK\"\n",
    "send_message(server_ip, server_port, invalid_message)  # Should return \"NIE\""
   ]
  },
  {
   "cell_type": "code",
   "execution_count": null,
   "metadata": {},
   "outputs": [],
   "source": []
  }
 ],
 "metadata": {
  "kernelspec": {
   "display_name": "venv",
   "language": "python",
   "name": "python3"
  },
  "language_info": {
   "codemirror_mode": {
    "name": "ipython",
    "version": 3
   },
   "file_extension": ".py",
   "mimetype": "text/x-python",
   "name": "python",
   "nbconvert_exporter": "python",
   "pygments_lexer": "ipython3",
   "version": "3.12.1"
  }
 },
 "nbformat": 4,
 "nbformat_minor": 2
}
