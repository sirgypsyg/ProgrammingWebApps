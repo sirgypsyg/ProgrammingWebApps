{
 "cells": [
  {
   "cell_type": "code",
   "execution_count": 59,
   "metadata": {},
   "outputs": [],
   "source": [
    "# Napisz program, w którym pobierzesz od użytkownika nazwę pliku tekstowego, a następnie skopiujesz go\n",
    "# do pliku pod nazwą lab1zad1.txt\n",
    "\n",
    "file = input(\"give flile name\")\n",
    "dest = \"lab1zad1.txt\"\n",
    "\n",
    "with open(dest, \"w\") as output:\n",
    "    output.write(file)"
   ]
  },
  {
   "cell_type": "code",
   "execution_count": 60,
   "metadata": {},
   "outputs": [],
   "source": [
    "# # Napisz program, w którym pobierzesz od użytkownika nazwę pliku graficznego, a następnie skopiujesz go\n",
    "# do pliku pod nazwą lab1zad1.png\n",
    "\n",
    "file = input(\"give flile name\")\n",
    "dest = \"lab1zad1.png\"\n",
    "\n",
    "with open(dest, \"w\") as output:\n",
    "    output.write(file)\n"
   ]
  },
  {
   "cell_type": "code",
   "execution_count": 61,
   "metadata": {},
   "outputs": [
    {
     "name": "stdout",
     "output_type": "stream",
     "text": [
      "not valid.\n"
     ]
    }
   ],
   "source": [
    "import re\n",
    "\n",
    "ip = input(\"give ip adress\")\n",
    "\n",
    "#  Napisz program, w którym pobierzesz od użytkownika adres IP, a następnie sprawdzisz, czy jest on\n",
    "# poprawnym adresem.\n",
    "def is_valid_ip(ip):\n",
    "    pattern = re.compile(r\"^(?:[0-9]{1,3}\\.){3}[0-9]{1,3}$\")\n",
    "    if pattern.match(ip):\n",
    "        return all(0 <= int(num) <= 255 for num in ip.split('.'))\n",
    "    return False\n",
    "\n",
    "if is_valid_ip(ip):\n",
    "    print(\"valid.\")\n",
    "else:\n",
    "    print(\"not valid.\")\n",
    "ip = input(\"give ip adress\")\n"
   ]
  },
  {
   "cell_type": "code",
   "execution_count": 1,
   "metadata": {},
   "outputs": [
    {
     "name": "stdout",
     "output_type": "stream",
     "text": [
      "The hostname for IP address 127.0.0.1 is localhost\n"
     ]
    }
   ],
   "source": [
    "import socket\n",
    "\n",
    "# Napisz program, który jako argument linii poleceń pobierze od użytkownika adres IP, a następnie\n",
    "# wyświetli odpowiadającą mu nazwę hostname.\n",
    "\n",
    "\n",
    "# Get the IP address from the user\n",
    "\n",
    "ip = input(\"give ip\")\n",
    "\n",
    "try:\n",
    "    host = socket.gethostbyaddr(ip)\n",
    "    print(f\"The hostname for IP address {ip} is {host[0]}\")\n",
    "except socket.error:\n",
    "    print(f\"Could not resolve hostname for IP address {ip}\")\n"
   ]
  },
  {
   "cell_type": "code",
   "execution_count": 63,
   "metadata": {},
   "outputs": [
    {
     "name": "stdout",
     "output_type": "stream",
     "text": [
      "The IP address for  hostname  is 0.0.0.0 \n"
     ]
    }
   ],
   "source": [
    "# Napisz program, który jako argument linii poleceń pobierze od użytkownika hostname, a następnie\n",
    "# wyświetli odpowiadający mu adres IP.\n",
    "\n",
    "\n",
    "hostname = input(\"give host\")\n",
    "\n",
    "try:\n",
    "    ip = socket.gethostbyname(hostname)\n",
    "    print(f\"The IP address for  hostname {hostname} is {ip} \")\n",
    "except socket.herror:\n",
    "    print(\"error\")"
   ]
  },
  {
   "cell_type": "code",
   "execution_count": 71,
   "metadata": {},
   "outputs": [
    {
     "name": "stdout",
     "output_type": "stream",
     "text": [
      "WIN\n"
     ]
    }
   ],
   "source": [
    "# Napisz program, w którym połączysz się z serwerem na danym porcie przy użyciu protokołu TCP. Adres\n",
    "# serwera i numer portu pobierz jako argumenty linii poleceń. Wyświetl informację, czy udało się nawiązać\n",
    "# połączenie. Program powinien akceptować adres w postaci adresu IP jak i hostname.a\n",
    "\n",
    "addres = input(\"give adress\")\n",
    "port = input(\"give port\")\n",
    "\n",
    "s = socket.socket(socket.AF_INET, socket.SOCK_STREAM)\n",
    "\n",
    "try:\n",
    "    s.connect((addres, int(port)))\n",
    "    print(\"WIN\")\n",
    "except socket.herror:\n",
    "    print(\"fail\")\n",
    "finally:\n",
    "    s.close()"
   ]
  },
  {
   "cell_type": "code",
   "execution_count": 72,
   "metadata": {},
   "outputs": [
    {
     "name": "stdout",
     "output_type": "stream",
     "text": [
      "Port 88: Open\n",
      "Port 5000: Open\n",
      "Port 5432: Open\n",
      "Port 5900: Open\n",
      "Port 7000: Open\n",
      "Port 9064: Open\n",
      "Port 9065: Open\n",
      "Port 9066: Open\n",
      "Port 9067: Open\n",
      "Port 9068: Open\n"
     ]
    }
   ],
   "source": [
    "# Napisz program (skaner portów), który dla danego serwera przy użyciu protokołu TCP będzie sprawdzał,\n",
    "# jakie porty są otwarte. Adres serwera pobierz jako argument linii poleceń. Program powinien akceptować\n",
    "# adres w postaci adresu IP jak i hostname.\n",
    "\n",
    "import socket\n",
    "\n",
    "remoteServer = input(\"Enter a remote host to scan: \")\n",
    "remoteServerIP = socket.gethostbyname(remoteServer)\n",
    "\n",
    "try:\n",
    "    for port in range(1, 10000):\n",
    "        sock = socket.socket(socket.AF_INET, socket.SOCK_STREAM)\n",
    "        result = sock.connect_ex((remoteServerIP, port))\n",
    "        if result == 0:\n",
    "            print(f\"Port {port}: Open\")\n",
    "        sock.close()\n",
    "except socket.gaierror:\n",
    "    print('Hostname could not be resolved. Exiting')\n",
    "except socket.error:\n",
    "    print(\"Couldn't connect to server\")\n"
   ]
  },
  {
   "cell_type": "code",
   "execution_count": null,
   "metadata": {},
   "outputs": [],
   "source": []
  }
 ],
 "metadata": {
  "kernelspec": {
   "display_name": "venv",
   "language": "python",
   "name": "python3"
  },
  "language_info": {
   "codemirror_mode": {
    "name": "ipython",
    "version": 3
   },
   "file_extension": ".py",
   "mimetype": "text/x-python",
   "name": "python",
   "nbconvert_exporter": "python",
   "pygments_lexer": "ipython3",
   "version": "3.12.1"
  }
 },
 "nbformat": 4,
 "nbformat_minor": 2
}
