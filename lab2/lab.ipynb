{
 "cells": [
  {
   "cell_type": "code",
   "execution_count": 1,
   "metadata": {},
   "outputs": [],
   "source": [
    "import socket\n",
    "##zad1\n",
    "sock = socket.socket(socket.AF_INET, socket.SOCK_STREAM)\n",
    "sock.settimeout(5)"
   ]
  },
  {
   "cell_type": "code",
   "execution_count": 13,
   "metadata": {},
   "outputs": [
    {
     "name": "stdout",
     "output_type": "stream",
     "text": [
      "nawiazlem polaczenie\n",
      "\n",
      "60748 25-03-14 12:12:18 50 0 0 594.4 UTC(NIST) * \n",
      "\n"
     ]
    }
   ],
   "source": [
    "sock = socket.socket(socket.AF_INET, socket.SOCK_STREAM)\n",
    "sock.settimeout(5)\n",
    "\n",
    "# 1. Napisz program, który z serwera ntp.task.gda.pl pobierze aktualną datę i czas, a następnie wyświetli je\n",
    "# na konsoli. Serwer działa na porcie 13.\n",
    "\n",
    "ADDRESS= 'time.nist.gov'\n",
    "PORT = 13\n",
    "\n",
    "result = sock.connect_ex((ADDRESS, PORT))\n",
    "if result == 0:\n",
    "    print(\"nawiazlem polaczenie\")\n",
    "    back_data = sock.recv(1024)\n",
    "    print(back_data.decode('utf-8'))\n",
    "    sock.close()\n",
    "else:\n",
    "    print(\"nie nawiazlem polaczenia\")"
   ]
  },
  {
   "cell_type": "code",
   "execution_count": 23,
   "metadata": {},
   "outputs": [
    {
     "name": "stdout",
     "output_type": "stream",
     "text": [
      "nawiazalem polaczenie\n",
      "kopaaara\n"
     ]
    }
   ],
   "source": [
    "# Napisz program klienta, który połączy się z serwerem TCP działającym pod adresem 212.182.24.27 na\n",
    "# porcie 2900, a następnie wyśle do niego wiadomość i odbierze odpowiedź.\n",
    "sock = socket.socket(socket.AF_INET, socket.SOCK_STREAM)\n",
    "sock.settimeout(5)\n",
    "\n",
    "ADDRESS = '127.0.0.1'\n",
    "PORT = 2901\n",
    "\n",
    "result = sock.connect_ex((ADDRESS, PORT))\n",
    "if result == 0:\n",
    "    print(\"nawiazalem polaczenie\")\n",
    "    data = \"kopaaara\"\n",
    "    sock.send(data.encode(\"utf-8\"))\n",
    "    back_data = sock.recv(1024)\n",
    "    print(back_data.decode('utf-8'))\n",
    "else:\n",
    "    print(\"nie nawizalzem poalczenia\")\n",
    "sock.close()"
   ]
  },
  {
   "cell_type": "code",
   "execution_count": 24,
   "metadata": {},
   "outputs": [
    {
     "name": "stdout",
     "output_type": "stream",
     "text": [
      "nawiazalem polaczenie\n",
      "messegage received b'kkok'\n",
      "messegage received b'lplopl'\n",
      "messegage received b'hyuijkl'\n",
      "messegage received b'buhjn km'\n"
     ]
    }
   ],
   "source": [
    "# 3. Napisz program klienta, który połączy się z serwerem TCP działającym pod adresem 212.182.24.27 na\n",
    "# porcie 2900, a następnie będzie w pętli wysyłał do niego tekst wczytany od użytkownika, i odbierał\n",
    "# odpowiedzi.\n",
    "sock = socket.socket(socket.AF_INET, socket.SOCK_STREAM)\n",
    "sock.settimeout(5)\n",
    "\n",
    "ADDRESS = '127.0.0.1'\n",
    "PORT = 2901\n",
    "\n",
    "result = sock.connect_ex((ADDRESS, PORT))\n",
    "if result == 0:\n",
    "    print(\"nawiazalem polaczenie\")\n",
    "    \n",
    "    while(True): #input isnt null\n",
    "        data = input()\n",
    "        if data == '':\n",
    "            break\n",
    "        sock.send(data.encode('utf-8'))\n",
    "        back_data = sock.recv(1024)\n",
    "        print(\"messegage received\" , back_data)\n",
    "    sock.close()\n",
    "else:\n",
    "    print(\"nie nawizalzem poalczenia\")\n",
    "\n"
   ]
  },
  {
   "cell_type": "code",
   "execution_count": 27,
   "metadata": {},
   "outputs": [
    {
     "name": "stdout",
     "output_type": "stream",
     "text": [
      "message received  b'kupka'\n"
     ]
    }
   ],
   "source": [
    "# Napisz program klienta, który połączy się z serwerem UDP działającym pod adresem 212.182.24.27 na\n",
    "# porcie 2901, a następnie wyśle do niego wiadomość i odbierze odpowiedź.\n",
    "\n",
    "sock = socket.socket(socket.AF_INET, socket.SOCK_DGRAM)\n",
    "sock.settimeout(5)\n",
    "\n",
    "ADDRESS = '127.0.0.1'\n",
    "PORT = 2901\n",
    "\n",
    "result = sock.connect_ex((ADDRESS,PORT))\n",
    "\n",
    "if result == 0:\n",
    "    data = input() \n",
    "    \n",
    "    sock.send(data.encode('utf-8'))\n",
    "    back_data = sock.recv(1024)\n",
    "    print(\"message received \", back_data)\n",
    "    sock.close\n",
    "else:\n",
    "    print(\"bad connecction\")\n",
    "\n",
    "\n"
   ]
  },
  {
   "cell_type": "code",
   "execution_count": 40,
   "metadata": {},
   "outputs": [
    {
     "name": "stdout",
     "output_type": "stream",
     "text": [
      "message received  31 * 2\n"
     ]
    }
   ],
   "source": [
    "# Napisz program klienta, który połączy się z serwerem UDP działającym pod adresem 212.182.24.27 na\n",
    "# porcie 2902, a następnie prześle do serwera liczbę, operator, liczbę (pobrane od użytkownika) i odbierze\n",
    "# odpowiedź.\n",
    "# Napisz program klienta, który połączy się z serwerem UDP działającym pod adresem 212.182.24.27 na\n",
    "# porcie 2901, a następnie wyśle do niego wiadomość i odbierze odpowiedź.\n",
    "\n",
    "sock = socket.socket(socket.AF_INET, socket.SOCK_DGRAM)\n",
    "sock.settimeout(5)\n",
    "\n",
    "ADDRESS = '127.0.0.1'\n",
    "PORT = 2902\n",
    "\n",
    "try:\n",
    "    data1 = input() \n",
    "    data2 = input() \n",
    "    data3 = input() \n",
    "\n",
    "    data = f\"{data1} {data2} {data3}\"\n",
    "    sock.sendto(data.encode('utf-8'), (ADDRESS,PORT))\n",
    "\n",
    "    back_data, server = sock.recvfrom(1024)\n",
    "    print(\"message received \", back_data.decode('utf-8'))\n",
    "except:\n",
    "    print(\"bad connecction\")\n",
    "finally:\n",
    "    sock.close()\n",
    "\n",
    "\n",
    "\n",
    "\n"
   ]
  },
  {
   "cell_type": "code",
   "execution_count": null,
   "metadata": {},
   "outputs": [
    {
     "name": "stdout",
     "output_type": "stream",
     "text": [
      "WIN\n",
      " service : allstorcns\n"
     ]
    }
   ],
   "source": [
    "# 7. Zmodyfikuj program numer 6 z laboratorium nr 1 w ten sposób, aby oprócz wyświetlania informacji o\n",
    "# tym, czy port jest zamknięty, czy otwarty, klient wyświetlał również informację o tym, jaka usługa jest\n",
    "# uruchomiona na danym porcie.\n",
    "\n",
    "addres = input(\"give adress\")\n",
    "port = input(\"give port\")\n",
    "\n",
    "s = socket.socket(socket.AF_INET, socket.SOCK_STREAM)\n",
    "\n",
    "try:\n",
    "    s.connect((addres, int(port)))\n",
    "    print(\"WIN\")\n",
    "    try:\n",
    "        service = socket.getservbyport(int(port), \"tcp\")\n",
    "        print(f\" service : {service}\")\n",
    "    except:\n",
    "        print(\"error\")\n",
    "except socket.herror:\n",
    "    print(\"fail\")\n",
    "finally:\n",
    "    s.close()"
   ]
  },
  {
   "cell_type": "code",
   "execution_count": null,
   "metadata": {},
   "outputs": [
    {
     "name": "stdout",
     "output_type": "stream",
     "text": [
      "Port 88: Open with working service: kerberos\n",
      "Port 2901: Open with working service: allstorcns\n",
      "Port 5000: Open with working service: commplex-main\n",
      "Port 5432: Open with working service: postgresql\n",
      "Port 5900: Open with working service: rfb\n",
      "Port 7000: Open with working service: afs3-fileserver\n",
      "Port 9000: Open with working service: cslistener\n",
      "Port 9001: Open with working service: etlservicemgr\n",
      "Port 9002: Open with working service: dynamid\n",
      "Couldn't connect to server\n"
     ]
    }
   ],
   "source": [
    "# 8. Zmodyfikuj program numer 7 z laboratorium nr 1 w ten sposób, aby oprócz wyświetlania informacji o\n",
    "# tym, czy porty są jest zamknięte, czy otwarte, klient wyświetlał również informację o tym, jaka usługa\n",
    "# jest uruchomiona na danym porcie\n",
    "\n",
    "# Napisz program (skaner portów), który dla danego serwera przy użyciu protokołu TCP będzie sprawdzał,\n",
    "# jakie porty są otwarte. Adres serwera pobierz jako argument linii poleceń. Program powinien akceptować\n",
    "# adres w postaci adresu IP jak i hostname.\n",
    "\n",
    "import socket\n",
    "\n",
    "remoteServer = input(\"Enter a remote host to scan: \")\n",
    "remoteServerIP = socket.gethostbyname(remoteServer)\n",
    "\n",
    "try:\n",
    "    for port in range(1, 10000):\n",
    "        sock = socket.socket(socket.AF_INET, socket.SOCK_STREAM)\n",
    "        result = sock.connect_ex((remoteServerIP, port))\n",
    "        if result == 0:\n",
    "            service = socket.getservbyport(int(port), \"tcp\")\n",
    "            print(f\"Port {port}: Open with working service: {service}\")\n",
    "        sock.close()\n",
    "except socket.gaierror:\n",
    "    print('Hostname could not be resolved. Exiting')\n",
    "except socket.error:\n",
    "    print(\"Couldn't connect to server\")\n"
   ]
  },
  {
   "cell_type": "code",
   "execution_count": 58,
   "metadata": {},
   "outputs": [
    {
     "name": "stdout",
     "output_type": "stream",
     "text": [
      "message received  b'one.one.one.one'\n"
     ]
    }
   ],
   "source": [
    "# Napisz program klienta, który połączy się z serwerem UDP działającym pod adresem 212.182.24.27 na\n",
    "# porcie 2906, a następnie prześle do serwera adres IP, i odbierze odpowiadającą mu nazwę hostname.\n",
    "\n",
    "sock = socket.socket(socket.AF_INET, socket.SOCK_DGRAM)\n",
    "sock.settimeout(5)\n",
    "\n",
    "ADDRESS = '127.0.0.1'\n",
    "PORT = 2906\n",
    "\n",
    "result = sock.connect_ex((ADDRESS,PORT))\n",
    "\n",
    "if result == 0:\n",
    "    data = input() \n",
    "    \n",
    "    sock.send(data.encode('utf-8'))\n",
    "    back_data = sock.recv(1024)\n",
    "    print(\"message received \", back_data)\n",
    "    sock.close\n",
    "else:\n",
    "    print(\"bad connecction\")\n",
    "\n",
    "\n"
   ]
  },
  {
   "cell_type": "code",
   "execution_count": null,
   "metadata": {},
   "outputs": [
    {
     "name": "stdout",
     "output_type": "stream",
     "text": [
      "message received  b'1.0.0.1'\n"
     ]
    }
   ],
   "source": [
    "# 10. Napisz program klienta, który połączy się z serwerem UDP działającym pod adresem 212.182.24.27 na\n",
    "# porcie 2907, a następnie prześle do serwera nazwę hostname, i odbierze odpowiadający mu adres IP\n",
    "\n",
    "sock = socket.socket(socket.AF_INET, socket.SOCK_DGRAM)\n",
    "sock.settimeout(5)\n",
    "\n",
    "ADDRESS = '127.0.0.1'\n",
    "PORT = 2907\n",
    "\n",
    "\n",
    "result = sock.connect_ex((ADDRESS,PORT))\n",
    "\n",
    "if result == 0:\n",
    "    data = input() \n",
    "    sock.send(data.encode('utf-8'))\n",
    "    back_data = sock.recv(1024)\n",
    "    print(\"message received \", back_data)\n",
    "    sock.close\n",
    "else:\n",
    "    print(\"bad connecction\")\n"
   ]
  },
  {
   "cell_type": "code",
   "execution_count": 5,
   "metadata": {},
   "outputs": [
    {
     "name": "stdout",
     "output_type": "stream",
     "text": [
      "nawiazalem polaczenie\n",
      "12345678901234567890\n"
     ]
    }
   ],
   "source": [
    "# 11. Zmodyfikuj program nr 2 z laboratorium nr 2 w ten sposób, aby klient wysłał i odebrał od serwera wia-\n",
    "# domość o maksymalnej długości 20 znaków. Serwer TCP odbierający i wysyłający wiadomości o długości\n",
    "# 20 działa pod adresem 212.182.24.27 na porcie 2908. Uwzględnij sytuacje, gdy:\n",
    "\n",
    "# • wiadomość do wysłania jest za krótka - ma być wówczas uzupełniania do 20 znaków znakami spacji\n",
    "\n",
    "# • wiadomość do wysłania jest za długa - ma być przycięta do 20 znaków (lub wysłana w całości -\n",
    "# sprawdź, co się wówczas stanie)\n",
    "\n",
    "import socket\n",
    "sock = socket.socket(socket.AF_INET, socket.SOCK_STREAM)\n",
    "sock.settimeout(5)\n",
    "\n",
    "ADDRESS = '127.0.0.1'\n",
    "PORT = 2909\n",
    "\n",
    "result = sock.connect_ex((ADDRESS, PORT))\n",
    "if result == 0:\n",
    "    print(\"nawiazalem polaczenie\")\n",
    "    data = input()\n",
    "    if len(data) < 20:\n",
    "        data = data.ljust(20)\n",
    "    else:\n",
    "        data = data[:20]\n",
    "        \n",
    "    sock.send(data.encode(\"utf-8\"))\n",
    "    back_data = sock.recv(160)\n",
    "    print(back_data.decode('utf-8'))\n",
    "else:\n",
    "    print(\"nie nawizalzem poalczenia\")\n",
    "sock.close()\n"
   ]
  },
  {
   "cell_type": "code",
   "execution_count": 64,
   "metadata": {},
   "outputs": [
    {
     "name": "stdout",
     "output_type": "stream",
     "text": [
      "345678&&&&&&&&&&&&&&\n"
     ]
    }
   ],
   "source": [
    "data = input()\n",
    "\n",
    "print(data.ljust(20, \"&\"))"
   ]
  },
  {
   "cell_type": "code",
   "execution_count": null,
   "metadata": {},
   "outputs": [],
   "source": [
    "# 12. Funkcje recv i send nie gwarantują wysłania / odbioru wszystkich danych. Rozważmy funkcję recv.\n",
    "# Przykładowo, 100 bajtów może zostać wysłane jako grupa po 10 bajtów, albo od razu w całości. Oznacza\n",
    "# to, iż jeśli używamy gniazd TCP, musimy odbierać dane, dopóki nie mamy pewności, że odebraliśmy\n",
    "# odpowiednią ich ilość. Zmodyfikuj program nr 11 z laboratorium nr 2 w ten sposób, aby mieć pewność,\n",
    "# że klient w rzeczywistości odebrał / wysłał wiadomość o wymaganej długości.\n",
    "\n",
    "# 11. Zmodyfikuj program nr 2 z laboratorium nr 2 w ten sposób, aby klient wysłał i odebrał od serwera wia-\n",
    "# domość o maksymalnej długości 20 znaków. Serwer TCP odbierający i wysyłający wiadomości o długości\n",
    "# 20 działa pod adresem 212.182.24.27 na porcie 2908. Uwzględnij sytuacje, gdy:\n",
    "\n",
    "# • wiadomość do wysłania jest za krótka - ma być wówczas uzupełniania do 20 znaków znakami spacji\n",
    "\n",
    "# • wiadomość do wysłania jest za długa - ma być przycięta do 20 znaków (lub wysłana w całości -\n",
    "# sprawdź, co się wówczas stanie)\n",
    "\n",
    "import socket\n",
    "sock = socket.socket(socket.AF_INET, socket.SOCK_STREAM)\n",
    "sock.settimeout(5)\n",
    "\n",
    "ADDRESS = '127.0.0.1'\n",
    "PORT = 2909\n",
    "\n",
    "result = sock.connect_ex((ADDRESS, PORT))\n",
    "if result == 0:\n",
    "    print(\"nawiazalem polaczenie\")\n",
    "    data = input()\n",
    "    if len(data) < 20:\n",
    "        data = data.ljust(20)\n",
    "    else:\n",
    "        data = data[:20]\n",
    "        \n",
    "    sock.send(data.encode(\"utf-8\"))\n",
    "    back_data = sock.recv(160)\n",
    "    print(back_data.decode('utf-8'))\n",
    "else:\n",
    "    print(\"nie nawizalzem poalczenia\")\n",
    "sock.close()\n",
    "\n"
   ]
  }
 ],
 "metadata": {
  "kernelspec": {
   "display_name": "venv",
   "language": "python",
   "name": "python3"
  },
  "language_info": {
   "codemirror_mode": {
    "name": "ipython",
    "version": 3
   },
   "file_extension": ".py",
   "mimetype": "text/x-python",
   "name": "python",
   "nbconvert_exporter": "python",
   "pygments_lexer": "ipython3",
   "version": "3.12.1"
  }
 },
 "nbformat": 4,
 "nbformat_minor": 2
}
