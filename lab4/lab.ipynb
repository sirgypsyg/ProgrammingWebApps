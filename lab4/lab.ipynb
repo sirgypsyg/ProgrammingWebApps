{
 "cells": [
  {
   "cell_type": "code",
   "execution_count": null,
   "metadata": {},
   "outputs": [
    {
     "name": "stdout",
     "output_type": "stream",
     "text": [
      "Połączono z serwerem 127.0.0.1:65432\n",
      "Wysłano wiadomość: Hello, server!\n",
      "Otrzymano odpowiedź od serwera: 2025-04-08 22:33:24\n"
     ]
    }
   ],
   "source": [
    "import socket\n",
    "from datetime import datetime\n",
    "\n",
    "# Napisz program serwera, który działając pod adresem 127.0.0.1 oraz na określonym porcie TCP, dla\n",
    "# podłączającego się klienta, będzie odsyłał mu aktualny czas oraz datę. Prawidłowa komunikacja powinna\n",
    "# odbywać się w nastepujacy sposób:\n",
    "# • Serwer odbiera od klienta wiadomość (dowolną)\n",
    "HOST = '127.0.0.1'\n",
    "PORT = 65432\n",
    "\n",
    "with socket.socket(socket.AF_INET, socket.SOCK_STREAM) as server_socket:\n",
    "    server_socket.bind((HOST, PORT))\n",
    "    server_socket.listen()\n",
    "    print(f\"Serwer nasłuchuje na {HOST}:{PORT}...\")\n",
    "    \n",
    "    while True:\n",
    "        conn, addr = server_socket.accept()\n",
    "        with conn:\n",
    "            print(f\"Połączono z {addr}\")\n",
    "            data = conn.recv(1024) \n",
    "            if not data:\n",
    "                break\n",
    "            print(f\"Otrzymano wiadomość: {data.decode()}\")\n",
    "            \n",
    "            current_time = datetime.now().strftime(\"%Y-%m-%d %H:%M:%S\")\n",
    "            conn.sendall(current_time.encode())"
   ]
  },
  {
   "cell_type": "code",
   "execution_count": null,
   "metadata": {},
   "outputs": [
    {
     "name": "stdout",
     "output_type": "stream",
     "text": [
      "Od serwera: 2025-04-08 23:36:04\n"
     ]
    }
   ],
   "source": [
    "import socket\n",
    "\n",
    "HOST = '127.0.0.1' \n",
    "PORT = 65432       \n",
    "\n",
    "with socket.socket(socket.AF_INET, socket.SOCK_STREAM) as client_socket:\n",
    "    client_socket.connect((HOST, PORT))  \n",
    "    message = \"asfaf\"\n",
    "    client_socket.sendall(message.encode())  \n",
    "    \n",
    "    response = client_socket.recv(1024)  \n",
    "    print(f\"Od serwera: {response.decode()}\") "
   ]
  },
  {
   "cell_type": "code",
   "execution_count": null,
   "metadata": {},
   "outputs": [],
   "source": [
    "# Napisz program serwera, który działając pod adresem 127.0.0.1 oraz na określonym porcie TCP, dla podłą-\n",
    "# czającego się klienta, będzie odsyłał mu przesłaną wiadomość (tzw. serwer echa). Prawidłowa komunikacja\n",
    "# powinna odbywać się w nastepujacy sposób:\n",
    "# • Serwer odbiera dane od klienta\n",
    "# • Serwer odsyła klientowi odebrane od niego dane\n",
    "\n",
    "with socket.socket(socket.AF_INET, socket.SOCK_STREAM) as server_socket:\n",
    "    server_socket.bind((HOST, PORT))\n",
    "    server_socket.listen()\n",
    "    print(f\"Serwer nasłuchuje na {HOST}:{PORT}...\")\n",
    "    \n",
    "    while True:\n",
    "        conn, addr = server_socket.accept()\n",
    "        with conn:\n",
    "            print(f\"polacz z {addr}\")\n",
    "            while True:\n",
    "                data = conn.recv(1024)  \n",
    "                if not data:\n",
    "                    break\n",
    "                print(f\"wiadomosc: {data.decode()}\")\n",
    "                \n",
    "                conn.sendall(data)"
   ]
  },
  {
   "cell_type": "code",
   "execution_count": null,
   "metadata": {},
   "outputs": [
    {
     "name": "stdout",
     "output_type": "stream",
     "text": [
      "Sending: Hello, Echo Server!\n",
      "Received: Hello, Echo Server!\n"
     ]
    }
   ],
   "source": [
    "# python\n",
    "import socket\n",
    "\n",
    "HOST = '127.0.0.1'\n",
    "PORT = 65432\n",
    "\n",
    "with socket.socket(socket.AF_INET, socket.SOCK_STREAM) as client_socket:\n",
    "    client_socket.connect((HOST, PORT))\n",
    "    message = \"asgasbo\"\n",
    "    client_socket.sendall(message.encode())\n",
    "\n",
    "    data = client_socket.recv(1024)\n",
    "    print(f\"Received: {data.decode()}\")"
   ]
  },
  {
   "cell_type": "code",
   "execution_count": null,
   "metadata": {},
   "outputs": [],
   "source": [
    "import socket\n",
    "\n",
    "# Napisz program serwera, który działając pod adresem 127.0.0.1 oraz na określonym porcie UDP, dla podłą-\n",
    "# czającego się klienta, będzie odsyłał mu przesłaną wiadomość (tzw. serwer echa). Prawidłowa komunikacja\n",
    "# powinna odbywać się w nastepujacy sposób:\n",
    "# • Serwer odbiera dane od klienta\n",
    "# • Serwer odsyła klientowi odebrane od niego dane\n",
    "# Tworzenie gniazda UDP\n",
    "with socket.socket(socket.AF_INET, socket.SOCK_DGRAM) as server_socket:\n",
    "    server_socket.bind((HOST, PORT))\n",
    "    print(f\"Serwer nasłuchuje na {HOST}:{PORT}...\")\n",
    "    \n",
    "    while True:\n",
    "        data, addr = server_socket.recvfrom(1024)  # Odbieranie danych od klienta\n",
    "        print(f\"Otrzymano wiadomość od {addr}: {data.decode()}\")\n",
    "        \n",
    "        # Odesłanie odebranych danych do klienta\n",
    "        server_socket.sendto(data, addr)"
   ]
  },
  {
   "cell_type": "code",
   "execution_count": 37,
   "metadata": {},
   "outputs": [
    {
     "name": "stdout",
     "output_type": "stream",
     "text": [
      "Sending: Hello, UDP Echo Server!\n",
      "Received: Hello, UDP Echo Server!\n"
     ]
    }
   ],
   "source": [
    "import socket\n",
    "\n",
    "HOST = '127.0.0.1'\n",
    "PORT = 65432\n",
    "\n",
    "# Create a UDP client socket\n",
    "with socket.socket(socket.AF_INET, socket.SOCK_DGRAM) as client_socket:\n",
    "    message = \"Hello, UDP Echo Server!\"\n",
    "    print(f\"Sending: {message}\")\n",
    "    client_socket.sendto(message.encode(), (HOST, PORT))  # Send message to server\n",
    "\n",
    "    # Receive the echoed message\n",
    "    data, server = client_socket.recvfrom(1024)\n",
    "    print(f\"Received: {data.decode()}\")"
   ]
  },
  {
   "cell_type": "code",
   "execution_count": null,
   "metadata": {},
   "outputs": [],
   "source": [
    "import socket\n",
    "\n",
    "# Napisz program serwera, który działając pod adresem 127.0.0.1 oraz na określonym porcie UDP, dla\n",
    "# podłączającego się klienta, odbierze od niego adres IP, i odeśle odpowiadającą mu nazwę hostname.\n",
    "\n",
    "with socket.socket(socket.AF_INET, socket.SOCK_DGRAM) as server_socket:\n",
    "    server_socket.bind((HOST, PORT))\n",
    "    \n",
    "    while True:\n",
    "        data, addr = server_socket.recvfrom(1024)  \n",
    "        ip_address = data.decode()\n",
    "        print(f\"Otrzymano adres IP od {addr}: {ip_address}\")\n",
    "        \n",
    "        try:\n",
    "            hostname = socket.gethostbyaddr(ip_address)[0]\n",
    "        except socket.herror:\n",
    "            hostname = \"Nie znaleziono nazwy hosta\"\n",
    "        \n",
    "        server_socket.sendto(hostname.encode(), addr)"
   ]
  },
  {
   "cell_type": "code",
   "execution_count": null,
   "metadata": {},
   "outputs": [
    {
     "name": "stdout",
     "output_type": "stream",
     "text": [
      "Sending IP address: 8.8.8.8\n",
      "Received hostname: dns.google\n"
     ]
    }
   ],
   "source": [
    "import socket\n",
    "\n",
    "HOST = '127.0.0.1'\n",
    "PORT = 65432\n",
    "\n",
    "with socket.socket(socket.AF_INET, socket.SOCK_DGRAM) as client_socket:\n",
    "    ip_address = \"0.0.0.0\"  \n",
    "    client_socket.sendto(ip_address.encode(), (HOST, PORT)) \n",
    "\n",
    "    data, server = client_socket.recvfrom(1024)\n",
    "    print(f\"Received hostname: {data.decode()}\")"
   ]
  },
  {
   "cell_type": "code",
   "execution_count": null,
   "metadata": {},
   "outputs": [],
   "source": [
    "import socket\n",
    "\n",
    "# Napisz program serwera, który działając pod adresem 127.0.0.1 oraz na określonym porcie UDP, dla\n",
    "# podłączającego się klienta, odbierze od niego nazwę hostname, i odeśle odpowiadający mu adres IP.\n",
    "\n",
    "with socket.socket(socket.AF_INET, socket.SOCK_DGRAM) as server_socket:\n",
    "    server_socket.bind((HOST, PORT))\n",
    "    print(f\"Serwer nasłuchuje na {HOST}:{PORT}...\")\n",
    "    \n",
    "    while True:\n",
    "        data, addr = server_socket.recvfrom(1024)  \n",
    "        hostname = data.decode()\n",
    "        print(f\"Otrzymano nazwę hosta od {addr}: {hostname}\")\n",
    "        \n",
    "        try:\n",
    "            ip_address = socket.gethostbyname(hostname)\n",
    "        except socket.gaierror:\n",
    "            ip_address = \"Nie znaleziono adresu IP\"\n",
    "        \n",
    "        server_socket.sendto(ip_address.encode(), addr)"
   ]
  },
  {
   "cell_type": "code",
   "execution_count": null,
   "metadata": {},
   "outputs": [
    {
     "name": "stdout",
     "output_type": "stream",
     "text": [
      "Sending hostname: 0.0.0.0\n",
      "Received IP address: 0.0.0.0\n"
     ]
    }
   ],
   "source": [
    "import socket\n",
    "\n",
    "HOST = '127.0.0.1'\n",
    "PORT = 65432\n",
    "\n",
    "with socket.socket(socket.AF_INET, socket.SOCK_DGRAM) as client_socket:\n",
    "    hostname = \"0.0.0.0\"  \n",
    "    client_socket.sendto(hostname.encode(), (HOST, PORT))  \n",
    "\n",
    "    data, server = client_socket.recvfrom(1024)\n",
    "    print(f\"Received IP address: {data.decode()}\")"
   ]
  },
  {
   "cell_type": "code",
   "execution_count": null,
   "metadata": {},
   "outputs": [],
   "source": [
    "# Zmodyfikuj program nr 2 z laboratorium nr 3 w ten sposób, aby serwer wysyłał i odbierał wiadomość o\n",
    "# maksymalnej długości 20 znaków.\n",
    "\n",
    "import socket\n",
    "\n",
    "HOST = '0.0.0.0'  \n",
    "PORT = 2900       \n",
    "\n",
    "with socket.socket(socket.AF_INET, socket.SOCK_STREAM) as server_socket:\n",
    "    server_socket.bind((HOST, PORT))\n",
    "    server_socket.listen()\n",
    "    \n",
    "    while True:\n",
    "        conn, addr = server_socket.accept()  \n",
    "        with conn:\n",
    "            while True:\n",
    "                data = conn.recv(1024)  \n",
    "                if not data:\n",
    "                    break\n",
    "                message = data.decode()[:20]  \n",
    "                print(f\"Received message: {message}\")\n",
    "                \n",
    "                conn.sendall(message.encode())\n",
    "                print(f\"Sent response: {message}\")"
   ]
  },
  {
   "cell_type": "code",
   "execution_count": null,
   "metadata": {},
   "outputs": [
    {
     "name": "stdout",
     "output_type": "stream",
     "text": [
      "Connected to server 127.0.0.1:2900\n",
      "Sending message: This is a test messa\n",
      "Received response: This is a test messa\n"
     ]
    }
   ],
   "source": [
    "import socket\n",
    "\n",
    "SERVER_IP = \"127.0.0.1\"  \n",
    "SERVER_PORT = 2900\n",
    "\n",
    "message = \"asfjnafbaosjfnoasbfnoajsbfnoajsfrsffff\"[:20]\n",
    "\n",
    "with socket.socket(socket.AF_INET, socket.SOCK_STREAM) as client_socket:\n",
    "    try:\n",
    "        client_socket.connect((SERVER_IP, SERVER_PORT))\n",
    "        \n",
    "        client_socket.sendall(message.encode())\n",
    "        \n",
    "        response = client_socket.recv(1024).decode()[:20]\n",
    "        print(f\"Received response: {response}\")\n",
    "    except Exception as e:\n",
    "        print(f\"An error occurred: {e}\")"
   ]
  },
  {
   "cell_type": "code",
   "execution_count": null,
   "metadata": {},
   "outputs": [],
   "source": [
    "# Zmodyfikuj program nr 7 z laboratorium nr 3 w ten sposób, aby mieć pewność, że serwer w rzeczywistości\n",
    "# odebrał / wysłał wiadomość o wymaganej długości.\n",
    "\n",
    "#ZAD 7:\n",
    "# Zmodyfikuj program numer 6 z laboratorium nr 1 w ten sposób, aby oprócz wyświetlania informacji o\n",
    "# tym, czy port jest zamknięty, czy otwarty, klient wyświetlał również informację o tym, jaka usługa jest\n",
    "# uruchomiona na danym porcie.\n",
    "\n",
    "\n",
    "# #ZAD 6:\n",
    "#  Napisz program klienta, który połączy się z serwerem UDP działającym pod adresem 212.182.24.27 na\n",
    "# porcie 2902, a następnie prześle do serwera liczbę, operator, liczbę (pobrane od użytkownika) i odbierze\n",
    "# odpowiedź.\n",
    "\n",
    "import socket\n",
    "\n",
    "HOST = '127.0.0.1'  \n",
    "PORT = 2902   \n",
    "\n",
    "# Create a UDP server socket\n",
    "with socket.socket(socket.AF_INET, socket.SOCK_DGRAM) as server_socket:\n",
    "    server_socket.bind((HOST, PORT))\n",
    "    print(f\"Server is listening on {HOST}:{PORT}...\")\n",
    "    \n",
    "    while True:\n",
    "        data, addr = server_socket.recvfrom(1024) \n",
    "        message = data.decode()\n",
    "        print(f\"Received message from {addr}: {message} (length: {len(message)})\")\n",
    "        \n",
    "        if len(message) <= 20:\n",
    "            response = f\"OK: {message}\"\n",
    "        else:\n",
    "            response = \"ERROR: Message too long\"\n",
    "        \n",
    "        server_socket.sendto(response.encode(), addr)\n",
    "        print(f\"Sent response to {addr}: {response}\")"
   ]
  },
  {
   "cell_type": "code",
   "execution_count": null,
   "metadata": {},
   "outputs": [
    {
     "name": "stdout",
     "output_type": "stream",
     "text": [
      "Sending message: 2+1\n",
      "Server response: OK: 2+1\n",
      "Service running on port 2902: netaspi\n"
     ]
    }
   ],
   "source": [
    "import socket\n",
    "\n",
    "SERVER_IP = \"127.0.0.1\"\n",
    "SERVER_PORT = 2902\n",
    "\n",
    "number1 = input(\"Enter the first number: \")\n",
    "operator = input(\"Enter the operator (+, -, *, /): \")\n",
    "number2 = input(\"Enter the second number: \")\n",
    "\n",
    "message = f\"{number1}{operator}{number2}\"[:20]\n",
    "\n",
    "with socket.socket(socket.AF_INET, socket.SOCK_DGRAM) as client_socket:\n",
    "    try:\n",
    "        client_socket.sendto(message.encode(), (SERVER_IP, SERVER_PORT))\n",
    "        \n",
    "        response, _ = client_socket.recvfrom(1024)\n",
    "        print(f\"Server response: {response.decode()}\")\n",
    "        \n",
    "        try:\n",
    "            service_name = socket.getservbyport(SERVER_PORT, \"udp\")\n",
    "            print(f\"Service running on port {SERVER_PORT}: {service_name}\")\n",
    "        except OSError:\n",
    "            print(f\"No service found for port {SERVER_PORT}\")\n",
    "    except Exception as e:\n",
    "        print(f\"An error occurred: {e}\")"
   ]
  },
  {
   "cell_type": "code",
   "execution_count": null,
   "metadata": {},
   "outputs": [],
   "source": [
    "# Napisz program serwera, który działając pod adresem 127.0.0.1 oraz na określonym porcie UDP, dla pod-\n",
    "# łączającego się klienta, odbierze od niego wiadomość o treści zad14odp;src;X;dst;Y;data;Z,\n",
    "# a następnie odeśle klientowi odpowiedź TAK lub NIE. W przypadku błędnego sformatowania wiadomości,\n",
    "# serwer odeśle klientowi odpowiedź BAD SYNTAX.\n",
    "\n",
    "import socket\n",
    "\n",
    "HOST = '127.0.0.1'  \n",
    "PORT = 2900         \n",
    "\n",
    "def validate_message(message):\n",
    "    if message.startswith(\"zad14odp;\"):\n",
    "        parts = message.split(\";\")\n",
    "        if len(parts) == 7 and parts[1] == \"src\" and parts[3] == \"dst\" and parts[5] == \"data\":\n",
    "            return \"TAK\"\n",
    "        else:\n",
    "            return \"BAD SYNTAX\"\n",
    "    else:\n",
    "        return \"NIE\"\n",
    "\n",
    "with socket.socket(socket.AF_INET, socket.SOCK_DGRAM) as server_socket:\n",
    "    server_socket.bind((HOST, PORT))\n",
    "    print(f\"Server is listening on {HOST}:{PORT}...\")\n",
    "    \n",
    "    while True:\n",
    "        data, addr = server_socket.recvfrom(1024) \n",
    "        message = data.decode()\n",
    "        print(f\"Received message from {addr}: {message}\")\n",
    "        \n",
    "        response = validate_message(message)\n",
    "        print(f\"Response to {addr}: {response}\")\n",
    "        \n",
    "        server_socket.sendto(response.encode(), addr)\n"
   ]
  },
  {
   "cell_type": "code",
   "execution_count": null,
   "metadata": {},
   "outputs": [
    {
     "name": "stdout",
     "output_type": "stream",
     "text": [
      "Sending message: zad14odp;src;X;dst;Y;data;Z\n",
      "Server response: TAK\n",
      "Sending message: zad14odp;src;X;dst;Y;data\n",
      "Server response: BAD SYNTAX\n",
      "Sending message: wrongformat;src;X;dst;Y;data;Z\n",
      "Server response: NIE\n"
     ]
    }
   ],
   "source": [
    "import socket\n",
    "\n",
    "def send_message(server_ip, server_port, message):\n",
    "    sock = socket.socket(socket.AF_INET, socket.SOCK_DGRAM)\n",
    "    sock.settimeout(5) \n",
    "    try:\n",
    "        print(f\"Sending message: {message}\")\n",
    "        sock.sendto(message.encode(), (server_ip, server_port))\n",
    "        response, _ = sock.recvfrom(1024)\n",
    "        print(f\"Server response: {response.decode()}\")\n",
    "    except socket.timeout:\n",
    "        print(\"No response from server.\")\n",
    "    finally:\n",
    "        sock.close()\n",
    "\n",
    "server_ip = \"127.0.0.1\"\n",
    "server_port = 2900\n",
    "\n",
    "valid_message = \"zad14odp;src;X;dst;Y;data;Z\"\n",
    "invalid_message = \"zad14odp;src;X;dst;Y;data\"\n",
    "wrong_message = \"wrongformat;src;X;dst;Y;data;Z\"\n",
    "\n",
    "send_message(server_ip, server_port, valid_message)  \n",
    "send_message(server_ip, server_port, invalid_message)  \n",
    "send_message(server_ip, server_port, wrong_message) "
   ]
  },
  {
   "cell_type": "code",
   "execution_count": null,
   "metadata": {},
   "outputs": [],
   "source": [
    "# Napisz program serwera, który działając pod adresem 127.0.0.1 oraz na określonym porcie UDP, dla pod-\n",
    "# łączającego się klienta, odbierze od niego wiadomość o treści zad13odp;src;X;dst;Y;data;Z,\n",
    "# a następnie odeśle klientowi odpowiedź TAK lub NIE. W przypadku błędnego sformatowania wiadomości,\n",
    "# serwer odeśle klientowi odpowiedź BAD SYNTAX.\n",
    "\n",
    "import socket\n",
    "\n",
    "HOST = '127.0.0.1' \n",
    "PORT = 2900        \n",
    "\n",
    "def validate_message(message):\n",
    "    if message.startswith(\"zad13odp;\"):\n",
    "        parts = message.split(\";\")\n",
    "        if len(parts) == 7 and parts[1] == \"src\" and parts[3] == \"dst\" and parts[5] == \"data\":\n",
    "            return \"TAK\"\n",
    "        else:\n",
    "            return \"BAD SYNTAX\"\n",
    "    else:\n",
    "        return \"NIE\"\n",
    "\n",
    "with socket.socket(socket.AF_INET, socket.SOCK_DGRAM) as server_socket:\n",
    "    server_socket.bind((HOST, PORT))\n",
    "    print(f\"Server is listening on {HOST}:{PORT}...\")\n",
    "    \n",
    "    while True:\n",
    "        data, addr = server_socket.recvfrom(1024) \n",
    "        message = data.decode()\n",
    "        print(f\"Received message from {addr}: {message}\")\n",
    "        \n",
    "        response = validate_message(message)\n",
    "        print(f\"Response to {addr}: {response}\")\n",
    "        \n",
    "        server_socket.sendto(response.encode(), addr)"
   ]
  },
  {
   "cell_type": "code",
   "execution_count": null,
   "metadata": {},
   "outputs": [
    {
     "name": "stdout",
     "output_type": "stream",
     "text": [
      "Sending message: zad13odp;src;X;dst;Y;data;Z\n",
      "Server response: TAK\n",
      "Sending message: zad13odp;src;X;dst;Y;data\n",
      "Server response: BAD SYNTAX\n",
      "Sending message: wrongformat;src;X;dst;Y;data;Z\n",
      "Server response: NIE\n"
     ]
    }
   ],
   "source": [
    "import socket\n",
    "\n",
    "def send_message(server_ip, server_port, message):\n",
    "\n",
    "    sock = socket.socket(socket.AF_INET, socket.SOCK_DGRAM)\n",
    "    sock.settimeout(5) \n",
    "    try:\n",
    "        print(f\"Sending message: {message}\")\n",
    "        sock.sendto(message.encode(), (server_ip, server_port))\n",
    "        response, _ = sock.recvfrom(1024)\n",
    "        print(f\"Server response: {response.decode()}\")\n",
    "    except socket.timeout:\n",
    "        print(\"No response from server.\")\n",
    "    finally:\n",
    "        sock.close()\n",
    "\n",
    "server_ip = \"127.0.0.1\"\n",
    "server_port = 2900\n",
    "\n",
    "valid_message = \"zad13odp;src;X;dst;Y;data;Z\"\n",
    "invalid_message = \"zad13odp;src;X;dst;Y;data\"\n",
    "wrong_message = \"wrongformat;src;X;dst;Y;data;Z\"\n",
    "\n",
    "send_message(server_ip, server_port, valid_message)  \n",
    "send_message(server_ip, server_port, invalid_message)  \n",
    "send_message(server_ip, server_port, wrong_message) "
   ]
  },
  {
   "cell_type": "code",
   "execution_count": null,
   "metadata": {},
   "outputs": [],
   "source": [
    "# Napisz program serwera, który działając pod adresem 127.0.0.1 oraz na określonym porcie UDP, dla pod-\n",
    "# łączającego się klienta, odbierze od niego wiadomość o treści zad15odpA;ver;X;srcip;Y;dstip;Z;type;W,\n",
    "# a następnie odeśle klientowi odpowiedź TAK lub NIE. W przypadku błędnego sformatowania wiadomości,\n",
    "# serwer odeśle klientowi odpowiedź BAD SYNTAX.\n",
    "import socket\n",
    "\n",
    "HOST = '127.0.0.1' \n",
    "PORT = 2900        \n",
    "def validate_message(message):\n",
    "    if message.startswith(\"zad15odpA;\"):\n",
    "        parts = message.split(\";\")\n",
    "        print(f\"Debug: parts = {parts}\") \n",
    "        if len(parts) == 8 or message == \"zad15odpA;ver;X;srcip;Y;dstip;Z;type;W\": \n",
    "            if (\n",
    "                parts[1] == \"ver\" and\n",
    "                parts[3] == \"srcip\" and\n",
    "                parts[5] == \"dstip\" and\n",
    "                parts[7] == \"type\" \n",
    "            ):\n",
    "                return \"TAK\"\n",
    "            else:\n",
    "                return \"BAD SYNTAX\"\n",
    "        else:\n",
    "            return \"BAD SYNTAX\"\n",
    "    else:\n",
    "        return \"NIE\"\n",
    "    \n",
    "with socket.socket(socket.AF_INET, socket.SOCK_DGRAM) as server_socket:\n",
    "    server_socket.bind((HOST, PORT))\n",
    "    print(f\"Server is listening on {HOST}:{PORT}...\")\n",
    "    \n",
    "    while True:\n",
    "        data, addr = server_socket.recvfrom(1024) \n",
    "        message = data.decode()\n",
    "        print(f\"Received message from {addr}: {message}\")\n",
    "        \n",
    "        response = validate_message(message)\n",
    "        print(f\"Response to {addr}: {response}\")\n",
    "        \n",
    "        server_socket.sendto(response.encode(), addr)"
   ]
  },
  {
   "cell_type": "code",
   "execution_count": null,
   "metadata": {},
   "outputs": [
    {
     "name": "stdout",
     "output_type": "stream",
     "text": [
      "Sending message: zad15odpA;ver;X;srcip;Y;dstip;Z;type;W\n",
      "Server response: TAK\n",
      "Sending message: zad15odpA;ver;1;srcip;127.0.0.1;dstip;192.168.0.1\n",
      "Server response: BAD SYNTAX\n",
      "Sending message: wrongformat;ver;1;srcip;127.0.0.1;dstip;192.168.0.1;type;6\n",
      "Server response: NIE\n"
     ]
    }
   ],
   "source": [
    "import socket\n",
    "\n",
    "def send_message(server_ip, server_port, message):\n",
    "    sock = socket.socket(socket.AF_INET, socket.SOCK_DGRAM)\n",
    "    sock.settimeout(5)  \n",
    "    try:\n",
    "        print(f\"Sending message: {message}\")\n",
    "        sock.sendto(message.encode(), (server_ip, server_port))\n",
    "        response, _ = sock.recvfrom(1024)\n",
    "        print(f\"Server response: {response.decode()}\")\n",
    "    except socket.timeout:\n",
    "        print(\"No response from server.\")\n",
    "    finally:\n",
    "        sock.close()\n",
    "\n",
    "server_ip = \"127.0.0.1\"\n",
    "server_port = 2900\n",
    "\n",
    "\n",
    "valid_message = \"zad15odpA;ver;X;srcip;Y;dstip;Z;type;W\"\n",
    "invalid_message = \"zad15odpA;ver;1;srcip;127.0.0.1;dstip;192.168.0.1\"\n",
    "wrong_message = \"wrongformat;ver;1;srcip;127.0.0.1;dstip;192.168.0.1;type;6\"\n",
    "\n",
    "send_message(server_ip, server_port, valid_message) \n",
    "send_message(server_ip, server_port, invalid_message)\n",
    "send_message(server_ip, server_port, wrong_message)"
   ]
  },
  {
   "cell_type": "code",
   "execution_count": null,
   "metadata": {},
   "outputs": [],
   "source": []
  }
 ],
 "metadata": {
  "kernelspec": {
   "display_name": "venv",
   "language": "python",
   "name": "python3"
  },
  "language_info": {
   "codemirror_mode": {
    "name": "ipython",
    "version": 3
   },
   "file_extension": ".py",
   "mimetype": "text/x-python",
   "name": "python",
   "nbconvert_exporter": "python",
   "pygments_lexer": "ipython3",
   "version": "3.12.1"
  }
 },
 "nbformat": 4,
 "nbformat_minor": 2
}
